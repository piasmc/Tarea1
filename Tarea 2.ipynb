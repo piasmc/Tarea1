{
 "cells": [
  {
   "cell_type": "markdown",
   "id": "91430d5e-688a-47cc-b117-1a5ec690236e",
   "metadata": {},
   "source": [
    "## <b>Tarea 2</b>"
   ]
  },
  {
   "cell_type": "markdown",
   "id": "af287f93-b1de-40ce-9b65-4b28646190f7",
   "metadata": {},
   "source": [
    "<b> Alumna: </b> Pía San Martin\n",
    "<br>\n",
    "<b> Docente: </b> Leo Ferres\n",
    "<br>\n",
    "<b> Curso: </b> Análisis de datos"
   ]
  },
  {
   "cell_type": "markdown",
   "id": "0fe216c1-16fb-4bbe-af93-751ac507a168",
   "metadata": {},
   "source": [
    "#### <li type=\"disc\"> En el presente trabajo se debe contestar las siguientes preguntas,  ¿Hubo outliers en el número de casos semanales en la comuna de las condes? </li>  <li type=\"disc\">Además de dibujar un boxplot y utilice el código en el notebook para dar la lista de outliers.</li>  <li type=\"disc\"> Cabe destacar que el presente trabajo se recaudo con información de diferentes sitios web y las clases del profesor Leo Ferres, y fue realizado en conjunto de mi compañero Julián Zúñiga</li>"
   ]
  },
  {
   "cell_type": "code",
   "execution_count": 5,
   "id": "1767a3f3-6d81-4183-a918-89f206d29556",
   "metadata": {},
   "outputs": [],
   "source": [
    "import pandas as pd\n",
    "import seaborn as sns\n",
    "import matplotlib.pyplot as plt\n",
    "from matplotlib import pylab, mlab, pyplot\n",
    "#Importo las librerias que necesitare para la tarea "
   ]
  },
  {
   "cell_type": "code",
   "execution_count": 6,
   "id": "03e3676e-8d0e-46bd-8ea7-8964485e510e",
   "metadata": {},
   "outputs": [],
   "source": [
    "# leo datos y separo los datos luego de cada coma\n",
    "datos = pd.read_csv(\"https://github.com/MinCiencia/Datos-COVID19/blob/master/output/producto1/Covid-19.csv?raw=true\", sep=',')"
   ]
  },
  {
   "cell_type": "code",
   "execution_count": 7,
   "id": "12a82b1c-2765-49f2-8499-460ced0b9d20",
   "metadata": {},
   "outputs": [
    {
     "data": {
      "text/html": [
       "<div>\n",
       "<style scoped>\n",
       "    .dataframe tbody tr th:only-of-type {\n",
       "        vertical-align: middle;\n",
       "    }\n",
       "\n",
       "    .dataframe tbody tr th {\n",
       "        vertical-align: top;\n",
       "    }\n",
       "\n",
       "    .dataframe thead th {\n",
       "        text-align: right;\n",
       "    }\n",
       "</style>\n",
       "<table border=\"1\" class=\"dataframe\">\n",
       "  <thead>\n",
       "    <tr style=\"text-align: right;\">\n",
       "      <th></th>\n",
       "      <th>Region</th>\n",
       "      <th>Codigo region</th>\n",
       "      <th>Comuna</th>\n",
       "      <th>Codigo comuna</th>\n",
       "      <th>Poblacion</th>\n",
       "      <th>2020-03-30</th>\n",
       "      <th>2020-04-01</th>\n",
       "      <th>2020-04-03</th>\n",
       "      <th>2020-04-06</th>\n",
       "      <th>2020-04-08</th>\n",
       "      <th>...</th>\n",
       "      <th>2021-11-08</th>\n",
       "      <th>2021-11-12</th>\n",
       "      <th>2021-11-15</th>\n",
       "      <th>2021-11-19</th>\n",
       "      <th>2021-11-22</th>\n",
       "      <th>2021-11-26</th>\n",
       "      <th>2021-11-29</th>\n",
       "      <th>2021-12-03</th>\n",
       "      <th>2021-12-06</th>\n",
       "      <th>Tasa</th>\n",
       "    </tr>\n",
       "  </thead>\n",
       "  <tbody>\n",
       "    <tr>\n",
       "      <th>0</th>\n",
       "      <td>Arica y Parinacota</td>\n",
       "      <td>15</td>\n",
       "      <td>Arica</td>\n",
       "      <td>15101.0</td>\n",
       "      <td>247552.0</td>\n",
       "      <td>6.0</td>\n",
       "      <td>6.0</td>\n",
       "      <td>12.0</td>\n",
       "      <td>41.0</td>\n",
       "      <td>63.0</td>\n",
       "      <td>...</td>\n",
       "      <td>31208.0</td>\n",
       "      <td>31361.0</td>\n",
       "      <td>31438.0</td>\n",
       "      <td>31519.0</td>\n",
       "      <td>31566.0</td>\n",
       "      <td>31643.0</td>\n",
       "      <td>31662.0</td>\n",
       "      <td>31713.0</td>\n",
       "      <td>31735.0</td>\n",
       "      <td>12819.5</td>\n",
       "    </tr>\n",
       "    <tr>\n",
       "      <th>1</th>\n",
       "      <td>Arica y Parinacota</td>\n",
       "      <td>15</td>\n",
       "      <td>Camarones</td>\n",
       "      <td>15102.0</td>\n",
       "      <td>1233.0</td>\n",
       "      <td>0.0</td>\n",
       "      <td>0.0</td>\n",
       "      <td>0.0</td>\n",
       "      <td>0.0</td>\n",
       "      <td>0.0</td>\n",
       "      <td>...</td>\n",
       "      <td>73.0</td>\n",
       "      <td>73.0</td>\n",
       "      <td>73.0</td>\n",
       "      <td>73.0</td>\n",
       "      <td>73.0</td>\n",
       "      <td>73.0</td>\n",
       "      <td>73.0</td>\n",
       "      <td>73.0</td>\n",
       "      <td>73.0</td>\n",
       "      <td>5920.5</td>\n",
       "    </tr>\n",
       "    <tr>\n",
       "      <th>2</th>\n",
       "      <td>Arica y Parinacota</td>\n",
       "      <td>15</td>\n",
       "      <td>General Lagos</td>\n",
       "      <td>15202.0</td>\n",
       "      <td>810.0</td>\n",
       "      <td>0.0</td>\n",
       "      <td>0.0</td>\n",
       "      <td>0.0</td>\n",
       "      <td>0.0</td>\n",
       "      <td>0.0</td>\n",
       "      <td>...</td>\n",
       "      <td>88.0</td>\n",
       "      <td>88.0</td>\n",
       "      <td>88.0</td>\n",
       "      <td>88.0</td>\n",
       "      <td>88.0</td>\n",
       "      <td>88.0</td>\n",
       "      <td>88.0</td>\n",
       "      <td>88.0</td>\n",
       "      <td>88.0</td>\n",
       "      <td>10864.2</td>\n",
       "    </tr>\n",
       "    <tr>\n",
       "      <th>3</th>\n",
       "      <td>Arica y Parinacota</td>\n",
       "      <td>15</td>\n",
       "      <td>Putre</td>\n",
       "      <td>15201.0</td>\n",
       "      <td>2515.0</td>\n",
       "      <td>0.0</td>\n",
       "      <td>0.0</td>\n",
       "      <td>0.0</td>\n",
       "      <td>0.0</td>\n",
       "      <td>0.0</td>\n",
       "      <td>...</td>\n",
       "      <td>216.0</td>\n",
       "      <td>216.0</td>\n",
       "      <td>217.0</td>\n",
       "      <td>216.0</td>\n",
       "      <td>217.0</td>\n",
       "      <td>217.0</td>\n",
       "      <td>217.0</td>\n",
       "      <td>217.0</td>\n",
       "      <td>217.0</td>\n",
       "      <td>8628.2</td>\n",
       "    </tr>\n",
       "    <tr>\n",
       "      <th>4</th>\n",
       "      <td>Arica y Parinacota</td>\n",
       "      <td>15</td>\n",
       "      <td>Desconocido Arica y Parinacota</td>\n",
       "      <td>NaN</td>\n",
       "      <td>NaN</td>\n",
       "      <td>NaN</td>\n",
       "      <td>NaN</td>\n",
       "      <td>NaN</td>\n",
       "      <td>NaN</td>\n",
       "      <td>NaN</td>\n",
       "      <td>...</td>\n",
       "      <td>211.0</td>\n",
       "      <td>212.0</td>\n",
       "      <td>213.0</td>\n",
       "      <td>214.0</td>\n",
       "      <td>215.0</td>\n",
       "      <td>225.0</td>\n",
       "      <td>230.0</td>\n",
       "      <td>233.0</td>\n",
       "      <td>234.0</td>\n",
       "      <td>NaN</td>\n",
       "    </tr>\n",
       "  </tbody>\n",
       "</table>\n",
       "<p>5 rows × 185 columns</p>\n",
       "</div>"
      ],
      "text/plain": [
       "               Region  Codigo region                          Comuna  \\\n",
       "0  Arica y Parinacota             15                           Arica   \n",
       "1  Arica y Parinacota             15                       Camarones   \n",
       "2  Arica y Parinacota             15                   General Lagos   \n",
       "3  Arica y Parinacota             15                           Putre   \n",
       "4  Arica y Parinacota             15  Desconocido Arica y Parinacota   \n",
       "\n",
       "   Codigo comuna  Poblacion  2020-03-30  2020-04-01  2020-04-03  2020-04-06  \\\n",
       "0        15101.0   247552.0         6.0         6.0        12.0        41.0   \n",
       "1        15102.0     1233.0         0.0         0.0         0.0         0.0   \n",
       "2        15202.0      810.0         0.0         0.0         0.0         0.0   \n",
       "3        15201.0     2515.0         0.0         0.0         0.0         0.0   \n",
       "4            NaN        NaN         NaN         NaN         NaN         NaN   \n",
       "\n",
       "   2020-04-08  ...  2021-11-08  2021-11-12  2021-11-15  2021-11-19  \\\n",
       "0        63.0  ...     31208.0     31361.0     31438.0     31519.0   \n",
       "1         0.0  ...        73.0        73.0        73.0        73.0   \n",
       "2         0.0  ...        88.0        88.0        88.0        88.0   \n",
       "3         0.0  ...       216.0       216.0       217.0       216.0   \n",
       "4         NaN  ...       211.0       212.0       213.0       214.0   \n",
       "\n",
       "   2021-11-22  2021-11-26  2021-11-29  2021-12-03  2021-12-06     Tasa  \n",
       "0     31566.0     31643.0     31662.0     31713.0     31735.0  12819.5  \n",
       "1        73.0        73.0        73.0        73.0        73.0   5920.5  \n",
       "2        88.0        88.0        88.0        88.0        88.0  10864.2  \n",
       "3       217.0       217.0       217.0       217.0       217.0   8628.2  \n",
       "4       215.0       225.0       230.0       233.0       234.0      NaN  \n",
       "\n",
       "[5 rows x 185 columns]"
      ]
     },
     "execution_count": 7,
     "metadata": {},
     "output_type": "execute_result"
    }
   ],
   "source": [
    "#Analizo los nombres de las variables del dataset de Casos Covid-19 en regiones\n",
    "datos.head()"
   ]
  },
  {
   "cell_type": "code",
   "execution_count": 8,
   "id": "ff13fdbd-5ef2-43c1-963c-3cb5af4ba3d3",
   "metadata": {},
   "outputs": [],
   "source": [
    "datos_LC = datos[datos[\"Comuna\"]== \"Las Condes\"]\n",
    "#Evidencio las variables que existen el en presente dataset y filtro solo las condes"
   ]
  },
  {
   "cell_type": "code",
   "execution_count": 9,
   "id": "46700075-c155-4df2-bb06-1174630c3a38",
   "metadata": {},
   "outputs": [
    {
     "data": {
      "text/html": [
       "<div>\n",
       "<style scoped>\n",
       "    .dataframe tbody tr th:only-of-type {\n",
       "        vertical-align: middle;\n",
       "    }\n",
       "\n",
       "    .dataframe tbody tr th {\n",
       "        vertical-align: top;\n",
       "    }\n",
       "\n",
       "    .dataframe thead th {\n",
       "        text-align: right;\n",
       "    }\n",
       "</style>\n",
       "<table border=\"1\" class=\"dataframe\">\n",
       "  <thead>\n",
       "    <tr style=\"text-align: right;\">\n",
       "      <th></th>\n",
       "      <th>Region</th>\n",
       "      <th>Codigo region</th>\n",
       "      <th>Comuna</th>\n",
       "      <th>Codigo comuna</th>\n",
       "      <th>Poblacion</th>\n",
       "      <th>2020-03-30</th>\n",
       "      <th>2020-04-01</th>\n",
       "      <th>2020-04-03</th>\n",
       "      <th>2020-04-06</th>\n",
       "      <th>2020-04-08</th>\n",
       "      <th>...</th>\n",
       "      <th>2021-11-08</th>\n",
       "      <th>2021-11-12</th>\n",
       "      <th>2021-11-15</th>\n",
       "      <th>2021-11-19</th>\n",
       "      <th>2021-11-22</th>\n",
       "      <th>2021-11-26</th>\n",
       "      <th>2021-11-29</th>\n",
       "      <th>2021-12-03</th>\n",
       "      <th>2021-12-06</th>\n",
       "      <th>Tasa</th>\n",
       "    </tr>\n",
       "  </thead>\n",
       "  <tbody>\n",
       "    <tr>\n",
       "      <th>108</th>\n",
       "      <td>Metropolitana</td>\n",
       "      <td>13</td>\n",
       "      <td>Las Condes</td>\n",
       "      <td>13114.0</td>\n",
       "      <td>330759.0</td>\n",
       "      <td>181.0</td>\n",
       "      <td>208.0</td>\n",
       "      <td>224.0</td>\n",
       "      <td>258.0</td>\n",
       "      <td>266.0</td>\n",
       "      <td>...</td>\n",
       "      <td>21589.0</td>\n",
       "      <td>21754.0</td>\n",
       "      <td>21847.0</td>\n",
       "      <td>21967.0</td>\n",
       "      <td>22028.0</td>\n",
       "      <td>22122.0</td>\n",
       "      <td>22160.0</td>\n",
       "      <td>22193.0</td>\n",
       "      <td>22214.0</td>\n",
       "      <td>6716.1</td>\n",
       "    </tr>\n",
       "  </tbody>\n",
       "</table>\n",
       "<p>1 rows × 185 columns</p>\n",
       "</div>"
      ],
      "text/plain": [
       "            Region  Codigo region      Comuna  Codigo comuna  Poblacion  \\\n",
       "108  Metropolitana             13  Las Condes        13114.0   330759.0   \n",
       "\n",
       "     2020-03-30  2020-04-01  2020-04-03  2020-04-06  2020-04-08  ...  \\\n",
       "108       181.0       208.0       224.0       258.0       266.0  ...   \n",
       "\n",
       "     2021-11-08  2021-11-12  2021-11-15  2021-11-19  2021-11-22  2021-11-26  \\\n",
       "108     21589.0     21754.0     21847.0     21967.0     22028.0     22122.0   \n",
       "\n",
       "     2021-11-29  2021-12-03  2021-12-06    Tasa  \n",
       "108     22160.0     22193.0     22214.0  6716.1  \n",
       "\n",
       "[1 rows x 185 columns]"
      ]
     },
     "execution_count": 9,
     "metadata": {},
     "output_type": "execute_result"
    }
   ],
   "source": [
    "datos_LC.head()\n",
    "#Análizo las variables del dataset de casos Covid-19 en Las condes"
   ]
  },
  {
   "cell_type": "code",
   "execution_count": 10,
   "id": "19804e21-1096-4662-90f3-fc25822e3f43",
   "metadata": {},
   "outputs": [],
   "source": [
    "datos_LC = datos_LC.melt(id_vars=[\"Region\",\"Codigo region\",\"Comuna\",\"Codigo comuna\",\n",
    "                                   \"Poblacion\", \"Tasa\"], var_name=\"Fecha\", value_name=\"Contagiados\") \n",
    "#En el df creado creo un \"melt\", que ordena las variables y crea 2 columnas \"Fecha\" y \"Contagiados\""
   ]
  },
  {
   "cell_type": "code",
   "execution_count": 11,
   "id": "20485202-b501-406e-b017-905c1fff9cfd",
   "metadata": {},
   "outputs": [
    {
     "data": {
      "text/html": [
       "<div>\n",
       "<style scoped>\n",
       "    .dataframe tbody tr th:only-of-type {\n",
       "        vertical-align: middle;\n",
       "    }\n",
       "\n",
       "    .dataframe tbody tr th {\n",
       "        vertical-align: top;\n",
       "    }\n",
       "\n",
       "    .dataframe thead th {\n",
       "        text-align: right;\n",
       "    }\n",
       "</style>\n",
       "<table border=\"1\" class=\"dataframe\">\n",
       "  <thead>\n",
       "    <tr style=\"text-align: right;\">\n",
       "      <th></th>\n",
       "      <th>Region</th>\n",
       "      <th>Codigo region</th>\n",
       "      <th>Comuna</th>\n",
       "      <th>Codigo comuna</th>\n",
       "      <th>Poblacion</th>\n",
       "      <th>Tasa</th>\n",
       "      <th>Fecha</th>\n",
       "      <th>Contagiados</th>\n",
       "    </tr>\n",
       "  </thead>\n",
       "  <tbody>\n",
       "    <tr>\n",
       "      <th>0</th>\n",
       "      <td>Metropolitana</td>\n",
       "      <td>13</td>\n",
       "      <td>Las Condes</td>\n",
       "      <td>13114.0</td>\n",
       "      <td>330759.0</td>\n",
       "      <td>6716.1</td>\n",
       "      <td>2020-03-30</td>\n",
       "      <td>181.0</td>\n",
       "    </tr>\n",
       "    <tr>\n",
       "      <th>1</th>\n",
       "      <td>Metropolitana</td>\n",
       "      <td>13</td>\n",
       "      <td>Las Condes</td>\n",
       "      <td>13114.0</td>\n",
       "      <td>330759.0</td>\n",
       "      <td>6716.1</td>\n",
       "      <td>2020-04-01</td>\n",
       "      <td>208.0</td>\n",
       "    </tr>\n",
       "    <tr>\n",
       "      <th>2</th>\n",
       "      <td>Metropolitana</td>\n",
       "      <td>13</td>\n",
       "      <td>Las Condes</td>\n",
       "      <td>13114.0</td>\n",
       "      <td>330759.0</td>\n",
       "      <td>6716.1</td>\n",
       "      <td>2020-04-03</td>\n",
       "      <td>224.0</td>\n",
       "    </tr>\n",
       "    <tr>\n",
       "      <th>3</th>\n",
       "      <td>Metropolitana</td>\n",
       "      <td>13</td>\n",
       "      <td>Las Condes</td>\n",
       "      <td>13114.0</td>\n",
       "      <td>330759.0</td>\n",
       "      <td>6716.1</td>\n",
       "      <td>2020-04-06</td>\n",
       "      <td>258.0</td>\n",
       "    </tr>\n",
       "    <tr>\n",
       "      <th>4</th>\n",
       "      <td>Metropolitana</td>\n",
       "      <td>13</td>\n",
       "      <td>Las Condes</td>\n",
       "      <td>13114.0</td>\n",
       "      <td>330759.0</td>\n",
       "      <td>6716.1</td>\n",
       "      <td>2020-04-08</td>\n",
       "      <td>266.0</td>\n",
       "    </tr>\n",
       "  </tbody>\n",
       "</table>\n",
       "</div>"
      ],
      "text/plain": [
       "          Region  Codigo region      Comuna  Codigo comuna  Poblacion    Tasa  \\\n",
       "0  Metropolitana             13  Las Condes        13114.0   330759.0  6716.1   \n",
       "1  Metropolitana             13  Las Condes        13114.0   330759.0  6716.1   \n",
       "2  Metropolitana             13  Las Condes        13114.0   330759.0  6716.1   \n",
       "3  Metropolitana             13  Las Condes        13114.0   330759.0  6716.1   \n",
       "4  Metropolitana             13  Las Condes        13114.0   330759.0  6716.1   \n",
       "\n",
       "        Fecha  Contagiados  \n",
       "0  2020-03-30        181.0  \n",
       "1  2020-04-01        208.0  \n",
       "2  2020-04-03        224.0  \n",
       "3  2020-04-06        258.0  \n",
       "4  2020-04-08        266.0  "
      ]
     },
     "execution_count": 11,
     "metadata": {},
     "output_type": "execute_result"
    }
   ],
   "source": [
    "datos_LC.head()"
   ]
  },
  {
   "cell_type": "code",
   "execution_count": 12,
   "id": "ff904d43-6fcb-4a93-9bc5-e6129ae85a00",
   "metadata": {},
   "outputs": [],
   "source": [
    "datos_LC = datos_LC.drop(columns = ['Region',\"Codigo region\", \"Tasa\", \n",
    "                                    \"Poblacion\", \"Codigo comuna\"])\n",
    "#Elimino datos que no son de interes para la muestra"
   ]
  },
  {
   "cell_type": "code",
   "execution_count": 13,
   "id": "76f8e2b6-83f2-414d-ba47-09213b9eebea",
   "metadata": {},
   "outputs": [
    {
     "name": "stdout",
     "output_type": "stream",
     "text": [
      "<class 'pandas.core.frame.DataFrame'>\n",
      "RangeIndex: 179 entries, 0 to 178\n",
      "Data columns (total 3 columns):\n",
      " #   Column       Non-Null Count  Dtype  \n",
      "---  ------       --------------  -----  \n",
      " 0   Comuna       179 non-null    object \n",
      " 1   Fecha        179 non-null    object \n",
      " 2   Contagiados  179 non-null    float64\n",
      "dtypes: float64(1), object(2)\n",
      "memory usage: 4.3+ KB\n"
     ]
    }
   ],
   "source": [
    "datos_LC.info()\n",
    "#Analizo la información y el tipo de variables que entrega mi muestra"
   ]
  },
  {
   "cell_type": "code",
   "execution_count": 14,
   "id": "f50c15fe-7a45-4581-8fb9-73228b3c5b5b",
   "metadata": {},
   "outputs": [],
   "source": [
    "datos_LC[\"Fecha\"] = pd.to_datetime(datos_LC[\"Fecha\"])\n",
    "#Cambio la fecha a formato \"datetime\" para poder trabajar con esta variable de forma optima"
   ]
  },
  {
   "cell_type": "code",
   "execution_count": 15,
   "id": "b5165a13-6a5d-4bdb-8cae-9ac16820e958",
   "metadata": {},
   "outputs": [
    {
     "name": "stdout",
     "output_type": "stream",
     "text": [
      "<class 'pandas.core.frame.DataFrame'>\n",
      "RangeIndex: 179 entries, 0 to 178\n",
      "Data columns (total 3 columns):\n",
      " #   Column       Non-Null Count  Dtype         \n",
      "---  ------       --------------  -----         \n",
      " 0   Comuna       179 non-null    object        \n",
      " 1   Fecha        179 non-null    datetime64[ns]\n",
      " 2   Contagiados  179 non-null    float64       \n",
      "dtypes: datetime64[ns](1), float64(1), object(1)\n",
      "memory usage: 4.3+ KB\n"
     ]
    }
   ],
   "source": [
    "datos_LC.info()\n",
    "#Obtengo nuevamente la info para evidenciar si la variable fecha efectivamente cambio de formato"
   ]
  },
  {
   "cell_type": "code",
   "execution_count": 16,
   "id": "c634a8f9-f6f3-4b32-971b-e56e3d3c9936",
   "metadata": {},
   "outputs": [
    {
     "data": {
      "text/html": [
       "<div>\n",
       "<style scoped>\n",
       "    .dataframe tbody tr th:only-of-type {\n",
       "        vertical-align: middle;\n",
       "    }\n",
       "\n",
       "    .dataframe tbody tr th {\n",
       "        vertical-align: top;\n",
       "    }\n",
       "\n",
       "    .dataframe thead th {\n",
       "        text-align: right;\n",
       "    }\n",
       "</style>\n",
       "<table border=\"1\" class=\"dataframe\">\n",
       "  <thead>\n",
       "    <tr style=\"text-align: right;\">\n",
       "      <th></th>\n",
       "      <th>Comuna</th>\n",
       "      <th>Fecha</th>\n",
       "      <th>Contagiados</th>\n",
       "    </tr>\n",
       "  </thead>\n",
       "  <tbody>\n",
       "    <tr>\n",
       "      <th>0</th>\n",
       "      <td>Las Condes</td>\n",
       "      <td>2020-03-30</td>\n",
       "      <td>181.0</td>\n",
       "    </tr>\n",
       "    <tr>\n",
       "      <th>1</th>\n",
       "      <td>Las Condes</td>\n",
       "      <td>2020-04-01</td>\n",
       "      <td>208.0</td>\n",
       "    </tr>\n",
       "    <tr>\n",
       "      <th>2</th>\n",
       "      <td>Las Condes</td>\n",
       "      <td>2020-04-03</td>\n",
       "      <td>224.0</td>\n",
       "    </tr>\n",
       "    <tr>\n",
       "      <th>3</th>\n",
       "      <td>Las Condes</td>\n",
       "      <td>2020-04-06</td>\n",
       "      <td>258.0</td>\n",
       "    </tr>\n",
       "    <tr>\n",
       "      <th>4</th>\n",
       "      <td>Las Condes</td>\n",
       "      <td>2020-04-08</td>\n",
       "      <td>266.0</td>\n",
       "    </tr>\n",
       "  </tbody>\n",
       "</table>\n",
       "</div>"
      ],
      "text/plain": [
       "       Comuna      Fecha  Contagiados\n",
       "0  Las Condes 2020-03-30        181.0\n",
       "1  Las Condes 2020-04-01        208.0\n",
       "2  Las Condes 2020-04-03        224.0\n",
       "3  Las Condes 2020-04-06        258.0\n",
       "4  Las Condes 2020-04-08        266.0"
      ]
     },
     "execution_count": 16,
     "metadata": {},
     "output_type": "execute_result"
    }
   ],
   "source": [
    "datos_LC.head()\n",
    "#Analizo los indices de las variables"
   ]
  },
  {
   "cell_type": "code",
   "execution_count": 17,
   "id": "6288f2fb-11a1-49f6-a486-3ed3a6349026",
   "metadata": {},
   "outputs": [
    {
     "data": {
      "text/html": [
       "<div>\n",
       "<style scoped>\n",
       "    .dataframe tbody tr th:only-of-type {\n",
       "        vertical-align: middle;\n",
       "    }\n",
       "\n",
       "    .dataframe tbody tr th {\n",
       "        vertical-align: top;\n",
       "    }\n",
       "\n",
       "    .dataframe thead th {\n",
       "        text-align: right;\n",
       "    }\n",
       "</style>\n",
       "<table border=\"1\" class=\"dataframe\">\n",
       "  <thead>\n",
       "    <tr style=\"text-align: right;\">\n",
       "      <th></th>\n",
       "      <th>Contagiados</th>\n",
       "    </tr>\n",
       "    <tr>\n",
       "      <th>Fecha</th>\n",
       "      <th></th>\n",
       "    </tr>\n",
       "  </thead>\n",
       "  <tbody>\n",
       "    <tr>\n",
       "      <th>2020-03-30</th>\n",
       "      <td>181.0</td>\n",
       "    </tr>\n",
       "    <tr>\n",
       "      <th>2020-04-06</th>\n",
       "      <td>690.0</td>\n",
       "    </tr>\n",
       "    <tr>\n",
       "      <th>2020-04-13</th>\n",
       "      <td>843.0</td>\n",
       "    </tr>\n",
       "    <tr>\n",
       "      <th>2020-04-20</th>\n",
       "      <td>952.0</td>\n",
       "    </tr>\n",
       "    <tr>\n",
       "      <th>2020-04-27</th>\n",
       "      <td>701.0</td>\n",
       "    </tr>\n",
       "  </tbody>\n",
       "</table>\n",
       "</div>"
      ],
      "text/plain": [
       "            Contagiados\n",
       "Fecha                  \n",
       "2020-03-30        181.0\n",
       "2020-04-06        690.0\n",
       "2020-04-13        843.0\n",
       "2020-04-20        952.0\n",
       "2020-04-27        701.0"
      ]
     },
     "execution_count": 17,
     "metadata": {},
     "output_type": "execute_result"
    }
   ],
   "source": [
    "datos_LC = datos_LC.resample(\"W-mon\", on=\"Fecha\").sum().sort_values(by=\"Fecha\")\n",
    "datos_LC.head()\n",
    "#Ordeno las variables para que sume las fechas en semanas comenzando del lunes"
   ]
  },
  {
   "cell_type": "code",
   "execution_count": 18,
   "id": "f37fc558-c4b0-402f-9241-9eae5c45590d",
   "metadata": {},
   "outputs": [],
   "source": [
    "datos_LC[\"Contagiados_Semana\"] = datos_LC[\"Contagiados\"] - datos_LC[\"Contagiados\"].shift()\n",
    "#Resto la semana siguiente con la actual ya que se van acumulando las semanas por lo que de esta forma se obtiene el valor neto"
   ]
  },
  {
   "cell_type": "code",
   "execution_count": 19,
   "id": "e0429e3c-f5de-45da-835a-f6780827aab0",
   "metadata": {},
   "outputs": [],
   "source": [
    "datos_LC[\"Comuna\"] = \"Las Condes\""
   ]
  },
  {
   "cell_type": "code",
   "execution_count": 20,
   "id": "6575bbd6-2828-40eb-b101-241bf85c3db4",
   "metadata": {},
   "outputs": [
    {
     "data": {
      "text/plain": [
       "5033.0"
      ]
     },
     "execution_count": 20,
     "metadata": {},
     "output_type": "execute_result"
    }
   ],
   "source": [
    "datos_LC.Contagiados_Semana.max()\n",
    "#Evidencio cual es el valor max de casos en una semana en las condes."
   ]
  },
  {
   "cell_type": "code",
   "execution_count": 21,
   "id": "828253d3-7e52-4c21-81a2-dd740ebb019d",
   "metadata": {},
   "outputs": [
    {
     "data": {
      "text/html": [
       "<div>\n",
       "<style scoped>\n",
       "    .dataframe tbody tr th:only-of-type {\n",
       "        vertical-align: middle;\n",
       "    }\n",
       "\n",
       "    .dataframe tbody tr th {\n",
       "        vertical-align: top;\n",
       "    }\n",
       "\n",
       "    .dataframe thead th {\n",
       "        text-align: right;\n",
       "    }\n",
       "</style>\n",
       "<table border=\"1\" class=\"dataframe\">\n",
       "  <thead>\n",
       "    <tr style=\"text-align: right;\">\n",
       "      <th></th>\n",
       "      <th>Contagiados</th>\n",
       "      <th>Contagiados_Semana</th>\n",
       "      <th>Comuna</th>\n",
       "    </tr>\n",
       "    <tr>\n",
       "      <th>Fecha</th>\n",
       "      <th></th>\n",
       "      <th></th>\n",
       "      <th></th>\n",
       "    </tr>\n",
       "  </thead>\n",
       "  <tbody>\n",
       "    <tr>\n",
       "      <th>2020-03-30</th>\n",
       "      <td>181.0</td>\n",
       "      <td>NaN</td>\n",
       "      <td>Las Condes</td>\n",
       "    </tr>\n",
       "    <tr>\n",
       "      <th>2020-04-06</th>\n",
       "      <td>690.0</td>\n",
       "      <td>509.0</td>\n",
       "      <td>Las Condes</td>\n",
       "    </tr>\n",
       "    <tr>\n",
       "      <th>2020-04-13</th>\n",
       "      <td>843.0</td>\n",
       "      <td>153.0</td>\n",
       "      <td>Las Condes</td>\n",
       "    </tr>\n",
       "    <tr>\n",
       "      <th>2020-04-20</th>\n",
       "      <td>952.0</td>\n",
       "      <td>109.0</td>\n",
       "      <td>Las Condes</td>\n",
       "    </tr>\n",
       "    <tr>\n",
       "      <th>2020-04-27</th>\n",
       "      <td>701.0</td>\n",
       "      <td>-251.0</td>\n",
       "      <td>Las Condes</td>\n",
       "    </tr>\n",
       "  </tbody>\n",
       "</table>\n",
       "</div>"
      ],
      "text/plain": [
       "            Contagiados  Contagiados_Semana      Comuna\n",
       "Fecha                                                  \n",
       "2020-03-30        181.0                 NaN  Las Condes\n",
       "2020-04-06        690.0               509.0  Las Condes\n",
       "2020-04-13        843.0               153.0  Las Condes\n",
       "2020-04-20        952.0               109.0  Las Condes\n",
       "2020-04-27        701.0              -251.0  Las Condes"
      ]
     },
     "execution_count": 21,
     "metadata": {},
     "output_type": "execute_result"
    }
   ],
   "source": [
    "datos_LC.head()\n",
    "#Vuelvo a evidencio si se genero de forma correcta la nueva variable creada \"contagiados_semana\""
   ]
  },
  {
   "cell_type": "code",
   "execution_count": 22,
   "id": "6b61cacc-1f4b-4af9-9712-6df4cb32ba1a",
   "metadata": {},
   "outputs": [],
   "source": [
    "datos_LC = datos_LC[datos_LC[\"Contagiados_Semana\"]>0]\n",
    "#Filtro los datos, ya que solo necesito los valores mayores a 0 "
   ]
  },
  {
   "cell_type": "markdown",
   "id": "669dcf49-a672-4fd8-8c65-bafca88b7a9b",
   "metadata": {},
   "source": [
    "## <li type=\"disc\"> Análisis gráfico: Boxplot y Distribución de casos en las condes </li>"
   ]
  },
  {
   "cell_type": "code",
   "execution_count": 75,
   "id": "eeec5bad-d917-401f-a8f9-22e22778ced1",
   "metadata": {},
   "outputs": [
    {
     "data": {
      "text/plain": [
       "(0.0, 5100.0)"
      ]
     },
     "execution_count": 75,
     "metadata": {},
     "output_type": "execute_result"
    },
    {
     "data": {
      "image/png": "[encoded data removed]",
      "text/plain": [
       "<Figure size 1080x288 with 1 Axes>"
      ]
     },
     "metadata": {},
     "output_type": "display_data"
    }
   ],
   "source": [
    "sns.set_theme(style=\"whitegrid\")\n",
    "f, ax = plt.subplots(figsize=(15, 4))\n",
    "sns.boxplot(x=datos_LC[\"Contagiados_Semana\"], y=datos_LC[\"Comuna\"], palette = \"pastel\",\n",
    "            linewidth=2, fliersize=9, width=0.65)\n",
    "plt.title('Boxplot, Contagiados en Las Condes')\n",
    "plt.xlim(0,5100)\n",
    "\n",
    "#Creo un boxplot con sus respectivos filtros para poder evidenciar los diferentes cuartiles y los outliers \n",
    "#Se evidencia un outlier superior a 5000 lo que podría considerarse \"anormal\" dentro de los mismos, lo que se puede asumir como un error en la muestra\n",
    "#Cabe destacar que este valor podría causar cesgos en el estudio"
   ]
  },
  {
   "cell_type": "code",
   "execution_count": 26,
   "id": "cdc7a669-aeb1-4eea-af66-dd5e8bd8a8a6",
   "metadata": {},
   "outputs": [
    {
     "data": {
      "text/plain": [
       "Text(0.5, 1.0, 'Casos en Las Condes')"
      ]
     },
     "execution_count": 26,
     "metadata": {},
     "output_type": "execute_result"
    },
    {
     "data": {
      "image/png": "[encoded data removed]",
      "text/plain": [
       "<Figure size 720x360 with 1 Axes>"
      ]
     },
     "metadata": {},
     "output_type": "display_data"
    }
   ],
   "source": [
    "sns.relplot(data = datos_LC, x = \"Fecha\", y ='Contagiados_Semana', \n",
    "            height=5, aspect=2, color=\"magenta\",\n",
    "            kind=\"line\").set_axis_labels('Date', 'Cantidad de contagiados en Las condes')\n",
    "plt.title('Casos en Las Condes')\n",
    "\n",
    "#De la misma forma creo un gráfico del tipo \"relplot\" que lo denota de forma más extendida "
   ]
  },
  {
   "cell_type": "markdown",
   "id": "b61f3255-8ff1-435f-9e69-f0833a7458b1",
   "metadata": {},
   "source": [
    "## <li type=\"disc\"> Lista Outliers: </li>"
   ]
  },
  {
   "cell_type": "code",
   "execution_count": 27,
   "id": "ac826e95-2688-4cb6-9719-11576e4ceb50",
   "metadata": {},
   "outputs": [
    {
     "data": {
      "text/html": [
       "<div>\n",
       "<style scoped>\n",
       "    .dataframe tbody tr th:only-of-type {\n",
       "        vertical-align: middle;\n",
       "    }\n",
       "\n",
       "    .dataframe tbody tr th {\n",
       "        vertical-align: top;\n",
       "    }\n",
       "\n",
       "    .dataframe thead th {\n",
       "        text-align: right;\n",
       "    }\n",
       "</style>\n",
       "<table border=\"1\" class=\"dataframe\">\n",
       "  <thead>\n",
       "    <tr style=\"text-align: right;\">\n",
       "      <th></th>\n",
       "      <th>Contagiados</th>\n",
       "      <th>Contagiados_Semana</th>\n",
       "      <th>Comuna</th>\n",
       "    </tr>\n",
       "    <tr>\n",
       "      <th>Fecha</th>\n",
       "      <th></th>\n",
       "      <th></th>\n",
       "      <th></th>\n",
       "    </tr>\n",
       "  </thead>\n",
       "  <tbody>\n",
       "    <tr>\n",
       "      <th>2020-06-01</th>\n",
       "      <td>4577.0</td>\n",
       "      <td>1373.0</td>\n",
       "      <td>Las Condes</td>\n",
       "    </tr>\n",
       "    <tr>\n",
       "      <th>2020-06-29</th>\n",
       "      <td>9225.0</td>\n",
       "      <td>5033.0</td>\n",
       "      <td>Las Condes</td>\n",
       "    </tr>\n",
       "    <tr>\n",
       "      <th>2021-06-07</th>\n",
       "      <td>32837.0</td>\n",
       "      <td>1345.0</td>\n",
       "      <td>Las Condes</td>\n",
       "    </tr>\n",
       "    <tr>\n",
       "      <th>2021-06-14</th>\n",
       "      <td>34189.0</td>\n",
       "      <td>1352.0</td>\n",
       "      <td>Las Condes</td>\n",
       "    </tr>\n",
       "  </tbody>\n",
       "</table>\n",
       "</div>"
      ],
      "text/plain": [
       "            Contagiados  Contagiados_Semana      Comuna\n",
       "Fecha                                                  \n",
       "2020-06-01       4577.0              1373.0  Las Condes\n",
       "2020-06-29       9225.0              5033.0  Las Condes\n",
       "2021-06-07      32837.0              1345.0  Las Condes\n",
       "2021-06-14      34189.0              1352.0  Las Condes"
      ]
     },
     "execution_count": 27,
     "metadata": {},
     "output_type": "execute_result"
    }
   ],
   "source": [
    "Posibles_outliers=datos_LC[datos_LC[\"Contagiados_Semana\"]>1300]\n",
    "Posibles_outliers \n",
    "#En base a los outliers encontrados, se tabulan los superiores a 1300, \n",
    "#que fueron los valores que superaban al cuarto cuartil y se genera la lista"
   ]
  },
  {
   "cell_type": "markdown",
   "id": "59d4e5b3-9541-4fbf-8a1c-7defc358650c",
   "metadata": {},
   "source": [
    "Se evidencia que los dias que mas hubo casos en las condes es el 29 de junio del 2020"
   ]
  }
 ],
 "metadata": {
  "kernelspec": {
   "display_name": "Python 3",
   "language": "python",
   "name": "python3"
  },
  "language_info": {
   "codemirror_mode": {
    "name": "ipython",
    "version": 3
   },
   "file_extension": ".py",
   "mimetype": "text/x-python",
   "name": "python",
   "nbconvert_exporter": "python",
   "pygments_lexer": "ipython3",
   "version": "3.8.8"
  }
 },
 "nbformat": 4,
 "nbformat_minor": 5
}
